{
 "cells": [
  {
   "cell_type": "markdown",
   "id": "8ff6b38a",
   "metadata": {},
   "source": [
    "# Inferential statistics"
   ]
  },
  {
   "cell_type": "code",
   "execution_count": null,
   "id": "6f6573ae",
   "metadata": {},
   "outputs": [],
   "source": [
    "It is assumed that the mean systolic blood pressure is μ = 120 mm Hg. In the Honolulu Heart Study, a sample of n = 100 people had an average systolic blood pressure of 130.1 mm Hg with a standard deviation of 21.21 mm Hg. Is the group significantly different (with respect to systolic blood pressure!) from the regular population?\n",
    "# 1. Set up the Hypotheses:\n",
    "\n",
    "# In this scenario, you are tasked with performing a hypothesis test to determine whether the group in the Honolulu Heart Study has a significantly different systolic blood pressure from the regular population, whose mean systolic blood pressure is assumed to be 120 mm Hg.\n"
   ]
  },
  {
   "cell_type": "code",
   "execution_count": 1,
   "id": "2ca58099",
   "metadata": {},
   "outputs": [
    {
     "name": "stdout",
     "output_type": "stream",
     "text": [
      "Z-test statistic: 4.761904761904759\n"
     ]
    }
   ],
   "source": [
    "import math\n",
    "\n",
    "# Given values\n",
    "mu = 120  # Population mean\n",
    "x_bar = 130.1  # Sample mean\n",
    "sigma = 21.21  # Sample standard deviation\n",
    "n = 100  # Sample size\n",
    "\n",
    "# Calculate the Z-test statistic\n",
    "Z = (x_bar - mu) / (sigma / math.sqrt(n))\n",
    "\n",
    "# Print the result\n",
    "print(\"Z-test statistic:\", Z)\n"
   ]
  },
  {
   "cell_type": "markdown",
   "id": "8fe926bb",
   "metadata": {},
   "source": [
    "# 6. Make a Decision:\n",
    "\n",
    "Now that we have calculated the Z-value to be approximately 4.76, we compare this with the critical\n",
    "Z-value for a two-tailed test at 𝛼 = 0.05\n",
    "\n",
    "For a two-tailed test with 𝛼 = 0.05, the critical Z-value is approximately ±1.96. If the calculated\n",
    "Z-value exceeds ±1.96, we reject the null hypothesis.\n",
    "\n",
    "Since 4.76 is much greater than 1.96, we reject the null hypothesis.\n",
    "\n",
    "Conclusion:\n",
    "\n",
    "There is significant evidence to suggest that the systolic blood pressure in the sample from the \n",
    "Honolulu Heart Study is significantly different from the population mean of 120 mm Hg.\n",
    "\n"
   ]
  }
 ],
 "metadata": {
  "kernelspec": {
   "display_name": "Python 3 (ipykernel)",
   "language": "python",
   "name": "python3"
  },
  "language_info": {
   "codemirror_mode": {
    "name": "ipython",
    "version": 3
   },
   "file_extension": ".py",
   "mimetype": "text/x-python",
   "name": "python",
   "nbconvert_exporter": "python",
   "pygments_lexer": "ipython3",
   "version": "3.9.13"
  }
 },
 "nbformat": 4,
 "nbformat_minor": 5
}
